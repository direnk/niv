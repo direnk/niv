{
 "cells": [
  {
   "cell_type": "markdown",
   "metadata": {},
   "source": [
    "# NIV-DARPA Experiment 05: Debt Efficiency Validation\n",
    "Computes the Debt-Efficiency Index (DEI) using cumulative regeneration and friction flows from Treasury data."
   ]
  },
  {
   "cell_type": "code",
   "execution_count": null,
   "metadata": {},
   "outputs": [],
   "source": [
    "from niv.data.treasury_data import TreasuryData, NIVMetrics, get_logger\n",
    "import matplotlib.pyplot as plt\n",
    "import pandas as pd\n",
    "from pathlib import Path\n",
    "\n",
    "logger = get_logger('Exp05')\n",
    "Path('visuals').mkdir(exist_ok=True)\n",
    "\n",
    "td = TreasuryData(cache_dir='data/fred_cache')\n",
    "df = td.fetch('2010-01-01')\n",
    "df = td.normalize(df)\n",
    "\n",
    "# Compute DEI\n",
    "df['FrictionCum'] = df['F_t'].cumsum()\n",
    "df['RegenerationCum'] = df['P_t'].cumsum()\n",
    "df['DEI'] = df['RegenerationCum'] / (df['FrictionCum'] + 1e-9)\n",
    "\n",
    "# Compute NIV series\n",
    "metrics = NIVMetrics()\n",
    "df['NIV_index'] = metrics.compute_niv_series(df)\n",
    "\n",
    "fig, ax = plt.subplots(2,1,figsize=(9,6), sharex=True)\n",
    "ax[0].plot(df.index, df['NIV_index'], label='NIV Index', color='steelblue')\n",
    "ax[0].set_ylabel('NIV')\n",
    "ax[0].legend()\n",
    "\n",
    "ax[1].plot(df.index, df['DEI'], label='Debt-Efficiency Index', color='seagreen')\n",
    "ax[1].set_ylabel('DEI')\n",
    "ax[1].legend()\n",
    "\n",
    "plt.suptitle('U.S. Treasury NIV & Debt-Efficiency Index (2010–2024)')\n",
    "plt.tight_layout()\n",
    "plt.savefig('visuals/exp05_debt_efficiency_validation.png', dpi=250)\n",
    "plt.show()\n",
    "\n",
    "logger.info('Debt-Efficiency validation complete.')\n",
    "logger.info(f'Average DEI: {df[\"DEI\"].mean():.4f}')"
   ]
  }
 ],
 "metadata": {
  "kernelspec": {
   "display_name": "Python 3",
   "language": "python",
   "name": "python3"
  },
  "language_info": {
   "name": "python",
   "version": "3.10"
  }
 },
 "nbformat": 4,
 "nbformat_minor": 5
}

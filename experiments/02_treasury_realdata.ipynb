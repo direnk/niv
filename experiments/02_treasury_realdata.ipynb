{
 "cells": [
  {
   "cell_type": "markdown",
   "metadata": {},
   "source": [
    "# NIV-DARPA Experiment 02: Treasury Real Data Test\n",
    "Loads real Treasury data and validates NIV metrics against historical macro trends."
   ]
  },
  {
   "cell_type": "code",
   "execution_count": null,
   "metadata": {},
   "outputs": [],
   "source": [
    "from niv import TreasuryData, NIVMetrics, get_logger\n",
    "import matplotlib.pyplot as plt\n",
    "import pandas as pd\n",
    "from pathlib import Path\n",
    "\n",
    "logger = get_logger('Exp02')\n",
    "Path('visuals').mkdir(exist_ok=True)\n",
    "\n",
    "td = TreasuryData(cache_dir='data/fred_cache')\n",
    "df = td.fetch('2010-01-01')\n",
    "df = td.normalize(df)\n",
    "\n",
    "metrics = NIVMetrics()\n",
    "df['NIV'] = metrics.compute_niv_series(df)\n",
    "\n",
    "plt.figure(figsize=(9,5))\n",
    "plt.plot(df.index, df['NIV'], lw=2, color='teal', label='NIV Index')\n",
    "plt.title('NIV Index vs Time (2010–2024)')\n",
    "plt.xlabel('Year')\n",
    "plt.ylabel('National Impact Velocity')\n",
    "plt.legend()\n",
    "plt.grid(alpha=0.3)\n",
    "plt.tight_layout()\n",
    "plt.savefig('visuals/exp02_treasury_realdata.png', dpi=200)\n",
    "plt.show()\n",
    "\n",
    "logger.info(f'Average NIV (2010–2024): {df[\"NIV\"].mean():.4f}')"
   ]
  }
 ],
 "metadata": {
  "kernelspec": {
   "display_name": "Python 3",
   "language": "python",
   "name": "python3"
  },
  "language_info": {
   "name": "python",
   "version": "3.10"
  }
 },
 "nbformat": 4,
 "nbformat_minor": 5
}

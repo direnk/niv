# NIV-DARPA Experiment 01: Synthetic Network Simulation
# -----------------------------------------------------
# Simulates a Laplacian-coupled NIV network and logs aggregate throughput.

from niv import NetworkSimulator, NIVParams, get_logger
import matplotlib.pyplot as plt
from pathlib import Path
import numpy as np

logger = get_logger("Exp01")
Path("visuals").mkdir(exist_ok=True)

# --- Simulation parameters ---
params = NIVParams()
sim = NetworkSimulator(n_agents=25, alpha=0.15, steps=1500)
niv_series = sim.run(params)

# --- Plot results ---
plt.figure(figsize=(8,4))
plt.plot(niv_series, lw=1.5, color="royalblue")
plt.title("Synthetic NIV Simulation – 25 Agents")
plt.xlabel("Timestep")
plt.ylabel("National Impact Velocity")
plt.grid(True, alpha=0.4)
plt.tight_layout()
plt.savefig("visuals/exp01_simulated_network.png", dpi=200)
plt.show()

logger.info(f"Simulation complete. Final NIV = {niv_series[-1]:.4f}")

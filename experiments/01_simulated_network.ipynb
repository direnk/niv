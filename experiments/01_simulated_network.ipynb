{
 "cells": [
  {
   "cell_type": "markdown",
   "metadata": {},
   "source": [
    "# NIV-DARPA Experiment 01: Synthetic Network Simulation\n",
    "Simulates a Laplacian-coupled NIV network and logs aggregate throughput."
   ]
  },
  {
   "cell_type": "code",
   "execution_count": null,
   "metadata": {},
   "outputs": [],
   "source": [
    "from niv import NetworkSimulator, NIVParams, get_logger\n",
    "import matplotlib.pyplot as plt\n",
    "from pathlib import Path\n",
    "import numpy as np\n",
    "\n",
    "logger = get_logger('Exp01')\n",
    "Path('visuals').mkdir(exist_ok=True)\n",
    "\n",
    "params = NIVParams()\n",
    "sim = NetworkSimulator(n_agents=25, alpha=0.15, steps=1500)\n",
    "niv_series = sim.run(params)\n",
    "\n",
    "plt.figure(figsize=(8,4))\n",
    "plt.plot(niv_series, lw=1.5, color='royalblue')\n",
    "plt.title('Synthetic NIV Simulation – 25 Agents')\n",
    "plt.xlabel('Timestep')\n",
    "plt.ylabel('National Impact Velocity')\n",
    "plt.grid(True, alpha=0.4)\n",
    "plt.tight_layout()\n",
    "plt.savefig('visuals/exp01_simulated_network.png', dpi=200)\n",
    "plt.show()\n",
    "\n",
    "logger.info(f'Simulation complete. Final NIV = {niv_series[-1]:.4f}')"
   ]
  }
 ],
 "metadata": {
  "kernelspec": {
   "display_name": "Python 3",
   "language": "python",
   "name": "python3"
  },
  "language_info": {
   "name": "python",
   "version": "3.10"
  }
 },
 "nbformat": 4,
 "nbformat_minor": 5
}


